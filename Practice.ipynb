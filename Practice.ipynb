{
  "nbformat": 4,
  "nbformat_minor": 0,
  "metadata": {
    "colab": {
      "provenance": [],
      "toc_visible": true,
      "mount_file_id": "1V3PvhjliduL77nMj4ynR7EjEiYQdB_iS",
      "authorship_tag": "ABX9TyNP+4UYsIr7so8DBAukt4Dp",
      "include_colab_link": true
    },
    "kernelspec": {
      "name": "python3",
      "display_name": "Python 3"
    },
    "language_info": {
      "name": "python"
    }
  },
  "cells": [
    {
      "cell_type": "markdown",
      "metadata": {
        "id": "view-in-github",
        "colab_type": "text"
      },
      "source": [
        "<a href=\"https://colab.research.google.com/github/sonmalan/python/blob/main/Practice.ipynb\" target=\"_parent\"><img src=\"https://colab.research.google.com/assets/colab-badge.svg\" alt=\"Open In Colab\"/></a>"
      ]
    },
    {
      "cell_type": "code",
      "source": [
        "# Program 1\n",
        "# Write a program add.py that takes 2 numbers as command line arguments and prints its sum\n",
        "import sys\n",
        "n = len(sys.argv)\n",
        "print(\"The total number of the aguement is \", n)\n",
        "print(\"Name of python script = \", sys.argv[0])\n",
        "a,b = sys.argv[1:3]\n",
        "print(\"The sum is of \",a,\" and \",b, \" is \", float(a) + float(b))"
      ],
      "metadata": {
        "id": "BVSoXhz8UvuM"
      },
      "execution_count": null,
      "outputs": []
    },
    {
      "source": [
        "# Program 2\n",
        "# WAP to find gcd, lcm of two numbers using functions\n",
        "# Function to find gcd\n",
        "def gcd_fun (x,y):\n",
        "    if (y == 0):\n",
        "        return x\n",
        "    else:\n",
        "        return gcd_fun(y, x % y)\n",
        "x = int (input(\"Enter the first number: \"))\n",
        "y = int (input(\"Enter the second number: \"))\n",
        "num = gcd_fun(x, y)\n",
        "print(\"The GCD is: \",num)\n",
        "# Function to find LCM\n",
        "import math\n",
        "def my_lcm (a,b):\n",
        "    gcd_v = math.gcd(a,b)\n",
        "    lcm_v = (a*b) // gcd_v\n",
        "    return lcm_v\n",
        "x = int (input(\"Enter the first number: \"))\n",
        "y = int (input(\"Enter the second number: \"))\n",
        "num = my_lcm(x, y)\n",
        "print(\"The LCM is: \",num)"
      ],
      "cell_type": "code",
      "metadata": {
        "id": "zzUE435yHd_o"
      },
      "execution_count": null,
      "outputs": []
    },
    {
      "cell_type": "code",
      "source": [
        "#program 3\n",
        "#  write a program to implement selection sort.\n",
        "\n",
        "def selection_sort(L):\n",
        "    n=len(L)\n",
        "    for i in range(n):\n",
        "        min=i\n",
        "        for j in range(i+1,n):\n",
        "            if L[j]<L[min]:\n",
        "                min=j\n",
        "        L[i],L[min]=L[min],L[i]\n",
        "    return 1\n",
        "L1=[5,-5,1,2,0]\n",
        "print(\"THE LIST BEFORE SORTING IS:\",L1)\n",
        "selection_sort(L1)\n",
        "print(\"THE LIST AFTER SORTING IS:\",L1)"
      ],
      "metadata": {
        "id": "6EITIjyyIpo9"
      },
      "execution_count": null,
      "outputs": []
    },
    {
      "cell_type": "code",
      "source": [
        "#program 4\n",
        "#Program to perform binary search\n",
        "#Creating a function\n",
        "def binarySearch(list,key):\n",
        "  first = 0\n",
        "  last = len(list) - 1\n",
        "  while(first <= last):\n",
        "    mid = (first + last) // 2\n",
        "    if list[mid] == key:\n",
        "      return mid\n",
        "    elif key > list[mid]:\n",
        "      first = mid + 1\n",
        "    elif key < list[mid]:\n",
        "      last = mid - 1\n",
        "  return - 1\n",
        "list1 = []#Creating an empty list\n",
        "print(\"Create a list by entering element in ascending\")\n",
        "n = int(input(\"Enter the Number of elements: \"))\n",
        "for i in range(n):\n",
        "  num = int(input(\"Enter the Element\"))\n",
        "  list1.append(num)\n",
        "key = int(input(\"Enter the key to be searched: \"))\n",
        "pos = binarySearch(list1,key)\n",
        "if (pos != - 1):\n",
        "  print(key,\"is Found at position \", pos + 1)\n",
        "else:\n",
        "  print(key,\"is not found in the list\")"
      ],
      "metadata": {
        "id": "HmzW5bLWJamI"
      },
      "execution_count": null,
      "outputs": []
    },
    {
      "cell_type": "code",
      "source": [
        "# Program 5\n",
        "# WAP to implement insertion sort\n",
        "def insertionSort(arr):\n",
        "    n = len(arr)\n",
        "    if n <= 1:\n",
        "        return\n",
        "    for i in range(1, n):\n",
        "        key = arr[i]\n",
        "        j = i - 1\n",
        "        while j >= 0 and key < arr[j]:\n",
        "            arr[j+1] = arr[j]\n",
        "            j -= 1\n",
        "            arr[j+1] = key\n",
        "# Sorting the array [12, 23, 4, 101, 5, 89] using insertionsort\n",
        "arr = [12, 23, 4, 101, 5, 89]\n",
        "insertionSort(arr)\n",
        "print(arr)"
      ],
      "metadata": {
        "id": "amuli4HzObFR"
      },
      "execution_count": null,
      "outputs": []
    },
    {
      "cell_type": "code",
      "source": [
        "# Program 6\n",
        "# WAP to find cumulative sum\n",
        "def cumulative_sum(lists):\n",
        "    cum_list = []\n",
        "    lenlength = len(lists)\n",
        "    y = 0\n",
        "    for x in range(0, len(lists)):\n",
        "        y+=lists[x]\n",
        "        cum_list.append(y)\n",
        "        return cum_list\n",
        "#method 1\n",
        "lists = [10, 15, 20, 25, 30]\n",
        "print (cumulative_sum(lists))\n",
        "#method 2\n",
        "i = []\n",
        "n = int(input(\"Enter the no of element in the list: \"))\n",
        "for x in range(0,n):\n",
        "    element = int(input(\"Enter the element: \" + str(x+1) + \" : \"))\n",
        "    i.append(element)\n",
        "print(cumulative_sum(i))"
      ],
      "metadata": {
        "id": "8fDIrLw9PHDE"
      },
      "execution_count": null,
      "outputs": []
    },
    {
      "cell_type": "code",
      "source": [
        "# Program 7\n",
        "# Write a program to perform addition of two square matrices\n",
        "# Program to add two matrices using nested loop\n",
        "x = [[1, 6, 3],\n",
        " [4, 5, 6],\n",
        " [7, 8, 9]]\n",
        "y = [[7, 8, 1],\n",
        " [69, 7, 3],\n",
        " [4, 5, 9]]\n",
        "result = [[0, 0, 0],\n",
        " [0, 0, 0],\n",
        " [0, 0, 0]]\n",
        "# iterate through rows\n",
        "for i in range(len(x)):\n",
        " # iterate through columns\n",
        " for j in range(len(x[0])):\n",
        "     result[i][j] = x[i][j] + y[i][j]\n",
        "for r in result:\n",
        "  print(r)\n"
      ],
      "metadata": {
        "id": "a8V84655QrzC"
      },
      "execution_count": null,
      "outputs": []
    },
    {
      "cell_type": "code",
      "source": [
        "#program 7 method 2 using numpy module\n",
        "import numpy as np\n",
        "arr1 = np.empty((3, 3), dtype=object)\n",
        "arr2 = np.empty((3, 3), dtype=object)\n",
        "arr3 = np.empty((3, 3), dtype=object)\n",
        "# Accept matrix 1\n",
        "print(\"Enter elements of matrix 1\")\n",
        "for i in range(3):\n",
        "    for j in range(3):\n",
        "        arr1[i][j] = int(input())\n",
        "# Accept matrix 2\n",
        "print(\"Enter elements of matrix 2\")\n",
        "for i in range(3):\n",
        "    for j in range(3):\n",
        "        arr2[i][j] = int(input())\n",
        "print(\"Matrix 1\")\n",
        "print(arr1)\n",
        "print(\"Matrix 2\")\n",
        "print(arr2)\n",
        "print(\"After addition\")\n",
        "for i in range(3):\n",
        "    for j in range(3):\n",
        "        arr3[i][j] = arr1[i][j] + arr2[i][j]\n",
        "print(arr3)"
      ],
      "metadata": {
        "id": "vboBza1lRmfI"
      },
      "execution_count": null,
      "outputs": []
    },
    {
      "cell_type": "code",
      "source": [
        "# Program 8\n",
        "# Write a program to double a given number and add two numbers using lambda()\n",
        "# Define the lambda functions\n",
        "double_num = lambda x: x * 2\n",
        "add_num = lambda x, y: x + y\n",
        "# Take input from a user\n",
        "num = int(input(\"Enter a number: \"))\n",
        "num1 = int(input(\"Enter the first number: \"))\n",
        "num2 = int(input(\"Enter the second number: \"))\n",
        "# Apply the lambda functions\n",
        "result1 = double_num(num)\n",
        "result2 = add_num(num1, num2)\n",
        "# Display the results\n",
        "print(\"Double of\", num, \"is\", result1)\n",
        "print(\"Sum of\", num1, \"and\", num2, \"is\", result2)"
      ],
      "metadata": {
        "id": "a67DjFNIUKta"
      },
      "execution_count": null,
      "outputs": []
    },
    {
      "cell_type": "code",
      "source": [
        "# Program 9\n",
        "# WAP to calculate area of a circle using math module\n",
        "import math\n",
        "def area_of_the_circle(r):\n",
        "    area = math.pi * r ** 2\n",
        "    return area\n",
        "rad = float(input(\"Please enter the radius of the given circle: \"))\n",
        "ar = area_of_the_circle(rad)\n",
        "print(\"The area of the given circle is:\", ar)"
      ],
      "metadata": {
        "id": "S8VFUc2VVFGa"
      },
      "execution_count": null,
      "outputs": []
    },
    {
      "cell_type": "code",
      "source": [
        "# Program 10\n",
        "# Write a program to find sum of two numbers using class and methods\n",
        "class Addition: # CREATION OF A CLASS\n",
        "    def findsum(self, num1, num2):\n",
        "        sum = num1 + num2\n",
        "        return sum\n",
        "# USER INPUT\n",
        "a = int(input(\"Enter first number: \"))\n",
        "b = int(input(\"Enter second number: \"))\n",
        "# CREATION OF AN OBJECT\n",
        "obj = Addition()\n",
        "# CALLING CLASS'S FUNCTION\n",
        "s = obj.findsum(a, b)\n",
        "print(\"Sum is:\", s)"
      ],
      "metadata": {
        "id": "fehySgh6VZIh"
      },
      "execution_count": null,
      "outputs": []
    },
    {
      "cell_type": "code",
      "source": [
        "# Program 11\n",
        "# Using a numpy module create an array and check the following: a)Type of array b)Dimensions of array c)Shape of array\n",
        "import numpy as np\n",
        "# Checking dimensions\n",
        "a = np.array(42)\n",
        "b = np.array([1, 2, 3, 4, 5])\n",
        "c = np.array([[1, 2, 3], [4, 5, 6]])\n",
        "d = np.array([[[1, 2, 3], [4, 5, 6]], [[1, 2, 3], [4, 5, 6]]])\n",
        "# Dimensions\n",
        "print('Dimension of array a is', a.ndim)\n",
        "print('Dimension of array b is', b.ndim)\n",
        "print('Dimension of array c is', c.ndim)\n",
        "print('Dimension of array d is', d.ndim)\n",
        "# Type of array\n",
        "print('Type of array b is', b.dtype)\n",
        "# Shape\n",
        "print('Shape of array a is', a.shape)\n",
        "print('Shape of array b is', b.shape)\n",
        "print('Shape of array c is', c.shape)\n",
        "print('Shape of array d is', d.shape)"
      ],
      "metadata": {
        "id": "fRqa2TjtV53_"
      },
      "execution_count": null,
      "outputs": []
    },
    {
      "cell_type": "code",
      "source": [
        "# Program 12\n",
        "# Write a python program to concatenate the data frames with two different objects\n",
        "import pandas as pd\n",
        "# First DataFrame\n",
        "dataFrame1 = pd.DataFrame({'id': ['A1', 'A2', 'A3', 'A4'],\n",
        " 'Name': ['ABC', 'PQR', 'DEF', 'GHI'],\n",
        " 'Marks': [65,69,96,89]})\n",
        "# Second DataFrame\n",
        "dataFrame2 = pd.DataFrame({'id': ['B1', 'B2', 'B3', 'B4'],\n",
        " 'Name': ['XYZ', 'TUV', 'MNO', 'JKL'],\n",
        " 'Marks': [56,96,69,98]})\n",
        "frames = [dataFrame1, dataFrame2]\n",
        "result = pd.concat(frames)\n",
        "print(result)"
      ],
      "metadata": {
        "id": "ZgYez6opWaNs"
      },
      "execution_count": null,
      "outputs": []
    },
    {
      "cell_type": "code",
      "source": [
        "# Program 13\n",
        "# WAP to demonstrate inheritance Polymorphism in python\n",
        "class Vehicle:\n",
        "    def __init__(self, brand, model):\n",
        "        self.brand = brand\n",
        "        self.model = model\n",
        "    def move(self):\n",
        "        print(\"Move!\")\n",
        "class Car(Vehicle): # Inheritance: Car is inheriting Vehicle\n",
        "    def move(self):\n",
        "        print(\"Cars Drive\")\n",
        "class Plane(Vehicle):\n",
        "    def move(self):\n",
        "        print(\"Planes Fly!\")\n",
        "car1 = Car(\"Ford\", \"Mustang\") # Create a Car object\n",
        "plane1 = Plane(\"Boeing\", \"747\") # Create a Plane object\n",
        "for x in (car1, plane1):\n",
        "    print(x.brand, x.model)\n",
        "    x.move()"
      ],
      "metadata": {
        "id": "C6mbH8JlXgmI"
      },
      "execution_count": null,
      "outputs": []
    },
    {
      "cell_type": "code",
      "source": [
        "#program 13 class polymosphism\n",
        "class car:\n",
        "  def __init__(self,brand,model):\n",
        "     self.brand = brand\n",
        "     self.model = model\n",
        "  def move (self):\n",
        "    print(\"car's move method\")\n",
        "class plane:\n",
        "  def __init__(self, brand,model):\n",
        "     self.brand = brand\n",
        "     self.model = model\n",
        "  def move (self):\n",
        "    print(\"plane's move method\")\n",
        "car1 = car(\"ford\", \"Mustang\") #Object Creation\n",
        "plane1 = plane(\"Bocing\", \"747\")\n",
        "for x in (car1, plane1):\n",
        "  x.move()"
      ],
      "metadata": {
        "id": "lmIYdLfZYqgk"
      },
      "execution_count": null,
      "outputs": []
    },
    {
      "cell_type": "code",
      "source": [
        "#program 13 FUNCTION\n",
        "x = \"Hello Worid\"\n",
        "print(len(x))\n",
        "mytuple = (\"apple\", \"banana\", \"chery\")\n",
        "print(len(mytuple))\n",
        "thisDict = {\n",
        "    \"brand\": \"Ford\",\n",
        "    \"model\": \"Mustang\",\n",
        "    \"year\": \"1964\"\n",
        "}\n",
        "print(len(thisDict))"
      ],
      "metadata": {
        "colab": {
          "base_uri": "https://localhost:8080/"
        },
        "id": "I8xivRFudkpx",
        "outputId": "d7c67afe-7276-468c-a0a5-ddfdfff2ea41"
      },
      "execution_count": 18,
      "outputs": [
        {
          "output_type": "stream",
          "name": "stdout",
          "text": [
            "11\n",
            "3\n",
            "3\n"
          ]
        }
      ]
    }
  ]
}